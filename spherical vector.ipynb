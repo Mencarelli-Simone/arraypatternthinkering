{
 "cells": [
  {
   "cell_type": "code",
   "execution_count": 1,
   "id": "initial_id",
   "metadata": {
    "collapsed": true,
    "ExecuteTime": {
     "end_time": "2023-11-15T23:29:34.646927800Z",
     "start_time": "2023-11-15T23:29:34.309131100Z"
    }
   },
   "outputs": [],
   "source": [
    "import sympy as sp\n",
    "from sympy import *\n"
   ]
  },
  {
   "cell_type": "code",
   "execution_count": 2,
   "outputs": [],
   "source": [
    "r, t, p, x, y, z = symbols(('\\\\rho', '\\\\theta', '\\\\phi', 'x', 'y', 'z'))"
   ],
   "metadata": {
    "collapsed": false,
    "ExecuteTime": {
     "end_time": "2023-11-15T23:29:34.648902800Z",
     "start_time": "2023-11-15T23:29:34.647926400Z"
    }
   },
   "id": "4337f6df0ab65783"
  },
  {
   "cell_type": "code",
   "execution_count": 3,
   "outputs": [],
   "source": [
    "# from cartesian to spherical vector\n",
    "M = Matrix([[cos(p) * sin(t), sin(p) * sin(t), cos(t)],\n",
    "            [cos(p) * cos(t), sin(p) * cos(t), -sin(t)],\n",
    "            [-sin(p), cos(p), 0]])"
   ],
   "metadata": {
    "collapsed": false,
    "ExecuteTime": {
     "end_time": "2023-11-15T23:29:34.658501200Z",
     "start_time": "2023-11-15T23:29:34.651421900Z"
    }
   },
   "id": "18ad55ee0db38234"
  },
  {
   "cell_type": "code",
   "execution_count": 4,
   "outputs": [
    {
     "data": {
      "text/plain": "Matrix([\n[sin(\\theta)*cos(\\phi), sin(\\phi)*sin(\\theta),  cos(\\theta)],\n[cos(\\phi)*cos(\\theta), sin(\\phi)*cos(\\theta), -sin(\\theta)],\n[           -sin(\\phi),             cos(\\phi),            0]])",
      "text/latex": "$\\displaystyle \\left[\\begin{matrix}\\sin{\\left(\\theta \\right)} \\cos{\\left(\\phi \\right)} & \\sin{\\left(\\phi \\right)} \\sin{\\left(\\theta \\right)} & \\cos{\\left(\\theta \\right)}\\\\\\cos{\\left(\\phi \\right)} \\cos{\\left(\\theta \\right)} & \\sin{\\left(\\phi \\right)} \\cos{\\left(\\theta \\right)} & - \\sin{\\left(\\theta \\right)}\\\\- \\sin{\\left(\\phi \\right)} & \\cos{\\left(\\phi \\right)} & 0\\end{matrix}\\right]$"
     },
     "execution_count": 4,
     "metadata": {},
     "output_type": "execute_result"
    }
   ],
   "source": [
    "M"
   ],
   "metadata": {
    "collapsed": false,
    "ExecuteTime": {
     "end_time": "2023-11-15T23:29:34.665044700Z",
     "start_time": "2023-11-15T23:29:34.658501200Z"
    }
   },
   "id": "c79db62960f618ae"
  },
  {
   "cell_type": "code",
   "execution_count": 5,
   "outputs": [
    {
     "data": {
      "text/plain": "Matrix([\n[sin(\\theta)*cos(\\phi), cos(\\phi)*cos(\\theta), -sin(\\phi)],\n[sin(\\phi)*sin(\\theta), sin(\\phi)*cos(\\theta),  cos(\\phi)],\n[          cos(\\theta),          -sin(\\theta),          0]])",
      "text/latex": "$\\displaystyle \\left[\\begin{matrix}\\sin{\\left(\\theta \\right)} \\cos{\\left(\\phi \\right)} & \\cos{\\left(\\phi \\right)} \\cos{\\left(\\theta \\right)} & - \\sin{\\left(\\phi \\right)}\\\\\\sin{\\left(\\phi \\right)} \\sin{\\left(\\theta \\right)} & \\sin{\\left(\\phi \\right)} \\cos{\\left(\\theta \\right)} & \\cos{\\left(\\phi \\right)}\\\\\\cos{\\left(\\theta \\right)} & - \\sin{\\left(\\theta \\right)} & 0\\end{matrix}\\right]$"
     },
     "execution_count": 5,
     "metadata": {},
     "output_type": "execute_result"
    }
   ],
   "source": [
    "M.T"
   ],
   "metadata": {
    "collapsed": false,
    "ExecuteTime": {
     "end_time": "2023-11-15T23:29:34.670989100Z",
     "start_time": "2023-11-15T23:29:34.666051700Z"
    }
   },
   "id": "22826692e1d7ff4a"
  },
  {
   "cell_type": "code",
   "execution_count": 6,
   "outputs": [
    {
     "data": {
      "text/plain": "Matrix([\n[1, 0, 0],\n[0, 1, 0],\n[0, 0, 1]])",
      "text/latex": "$\\displaystyle \\left[\\begin{matrix}1 & 0 & 0\\\\0 & 1 & 0\\\\0 & 0 & 1\\end{matrix}\\right]$"
     },
     "execution_count": 6,
     "metadata": {},
     "output_type": "execute_result"
    }
   ],
   "source": [
    "I = M * M.T\n",
    "sp.simplify(I)"
   ],
   "metadata": {
    "collapsed": false,
    "ExecuteTime": {
     "end_time": "2023-11-15T23:29:35.015103500Z",
     "start_time": "2023-11-15T23:29:34.671997700Z"
    }
   },
   "id": "c2259ced7b88e05f"
  },
  {
   "cell_type": "code",
   "execution_count": 7,
   "outputs": [
    {
     "data": {
      "text/plain": "Matrix([\n[x],\n[y],\n[z]])",
      "text/latex": "$\\displaystyle \\left[\\begin{matrix}x\\\\y\\\\z\\end{matrix}\\right]$"
     },
     "execution_count": 7,
     "metadata": {},
     "output_type": "execute_result"
    }
   ],
   "source": [
    "c = Matrix([x, y, z])\n",
    "c"
   ],
   "metadata": {
    "collapsed": false,
    "ExecuteTime": {
     "end_time": "2023-11-15T23:29:35.019106200Z",
     "start_time": "2023-11-15T23:29:35.016110500Z"
    }
   },
   "id": "e4a92ffa6ad5c54a"
  },
  {
   "cell_type": "code",
   "execution_count": 8,
   "outputs": [
    {
     "data": {
      "text/plain": "Matrix([\n[  \\hat\\rho],\n[\\hat\\theta],\n[  \\hat\\phi]])",
      "text/latex": "$\\displaystyle \\left[\\begin{matrix}\\hat\\rho\\\\\\hat\\theta\\\\\\hat\\phi\\end{matrix}\\right]$"
     },
     "execution_count": 8,
     "metadata": {},
     "output_type": "execute_result"
    }
   ],
   "source": [
    "# from spherical to cartesian vector\n",
    "R, T, P = symbols(('\\hat\\\\rho', '\\hat\\\\theta', '\\hat\\\\phi'))\n",
    "s = Matrix([R, T, P])\n",
    "s\n",
    "\n"
   ],
   "metadata": {
    "collapsed": false,
    "ExecuteTime": {
     "end_time": "2023-11-15T23:29:35.033427100Z",
     "start_time": "2023-11-15T23:29:35.020105100Z"
    }
   },
   "id": "41b90569468d226d"
  },
  {
   "cell_type": "code",
   "execution_count": 9,
   "outputs": [
    {
     "data": {
      "text/plain": "Matrix([\n[-\\hat\\phi*sin(\\phi) + \\hat\\rho*sin(\\theta)*cos(\\phi) + \\hat\\theta*cos(\\phi)*cos(\\theta)],\n[ \\hat\\phi*cos(\\phi) + \\hat\\rho*sin(\\phi)*sin(\\theta) + \\hat\\theta*sin(\\phi)*cos(\\theta)],\n[                                          \\hat\\rho*cos(\\theta) - \\hat\\theta*sin(\\theta)]])",
      "text/latex": "$\\displaystyle \\left[\\begin{matrix}- \\hat\\phi \\sin{\\left(\\phi \\right)} + \\hat\\rho \\sin{\\left(\\theta \\right)} \\cos{\\left(\\phi \\right)} + \\hat\\theta \\cos{\\left(\\phi \\right)} \\cos{\\left(\\theta \\right)}\\\\\\hat\\phi \\cos{\\left(\\phi \\right)} + \\hat\\rho \\sin{\\left(\\phi \\right)} \\sin{\\left(\\theta \\right)} + \\hat\\theta \\sin{\\left(\\phi \\right)} \\cos{\\left(\\theta \\right)}\\\\\\hat\\rho \\cos{\\left(\\theta \\right)} - \\hat\\theta \\sin{\\left(\\theta \\right)}\\end{matrix}\\right]$"
     },
     "execution_count": 9,
     "metadata": {},
     "output_type": "execute_result"
    }
   ],
   "source": [
    "# from spherical to cartesian\n",
    "M.T * s\n"
   ],
   "metadata": {
    "collapsed": false,
    "ExecuteTime": {
     "end_time": "2023-11-15T23:29:35.041031400Z",
     "start_time": "2023-11-15T23:29:35.033427100Z"
    }
   },
   "id": "ec3a24e91ac8f7f"
  }
 ],
 "metadata": {
  "kernelspec": {
   "display_name": "Python 3",
   "language": "python",
   "name": "python3"
  },
  "language_info": {
   "codemirror_mode": {
    "name": "ipython",
    "version": 2
   },
   "file_extension": ".py",
   "mimetype": "text/x-python",
   "name": "python",
   "nbconvert_exporter": "python",
   "pygments_lexer": "ipython2",
   "version": "2.7.6"
  }
 },
 "nbformat": 4,
 "nbformat_minor": 5
}
