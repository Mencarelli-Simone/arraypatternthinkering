{
 "cells": [
  {
   "cell_type": "code",
   "execution_count": null,
   "id": "initial_id",
   "metadata": {
    "collapsed": true,
    "ExecuteTime": {
     "end_time": "2023-11-28T21:59:31.441597300Z",
     "start_time": "2023-11-28T21:59:31.430087600Z"
    }
   },
   "outputs": [],
   "source": []
  },
  {
   "cell_type": "code",
   "execution_count": 1,
   "outputs": [],
   "source": [
    "# %% includes\n",
    "import numpy as np\n",
    "from numpy import pi, sin, cos, tan, arcsin\n",
    "import matplotlib.pyplot as plt\n",
    "from conformal_array_pattern import ConformalArray\n",
    "from radartools.farField import UniformAperture\n",
    "import matplotlib\n",
    "import mayavi.mlab as ml\n",
    "\n",
    "# set pyqt5 render\n",
    "matplotlib.use('Qt5Agg')"
   ],
   "metadata": {
    "collapsed": false,
    "ExecuteTime": {
     "end_time": "2023-11-28T21:59:43.829843200Z",
     "start_time": "2023-11-28T21:59:31.437598300Z"
    }
   },
   "id": "431ad33c3f17fc6"
  },
  {
   "cell_type": "code",
   "execution_count": 2,
   "outputs": [],
   "source": [
    "# antenna parameters\n",
    "freq = 10e9\n",
    "wavelength = 3e8 / freq\n",
    "# elements spacing\n",
    "dx = wavelength / 2\n",
    "dc = wavelength / 2  # spacing on conformal surface\n",
    "uniap = UniformAperture(dx, dx, freq)"
   ],
   "metadata": {
    "collapsed": false,
    "ExecuteTime": {
     "end_time": "2023-11-28T21:59:43.833908200Z",
     "start_time": "2023-11-28T21:59:43.830845600Z"
    }
   },
   "id": "77241aed64156a0b"
  },
  {
   "cell_type": "code",
   "execution_count": 4,
   "outputs": [],
   "source": [
    "theta = np.linspace(-pi / 2, pi / 2, 101)\n",
    "phi = np.zeros_like(theta)\n",
    "g = uniap.mesh_gain_pattern_theor(theta, phi)\n",
    "fig, ax = plt.subplots(1)\n",
    "ax.plot(theta * 180 / pi, g)\n",
    "plt.show()"
   ],
   "metadata": {
    "collapsed": false,
    "ExecuteTime": {
     "end_time": "2023-11-28T22:00:08.223765300Z",
     "start_time": "2023-11-28T21:59:57.247776500Z"
    }
   },
   "id": "c4f845a358f575e"
  },
  {
   "cell_type": "code",
   "execution_count": 5,
   "outputs": [],
   "source": [
    "# effective area\n",
    "Ae = g * wavelength ** 2 / (4 * pi)\n",
    "area = dx * dx * cos(theta)\n",
    "fig, ax = plt.subplots(1)\n",
    "ax.plot(theta * 180 / pi, Ae)\n",
    "ax.plot(theta * 180 / pi, area)\n",
    "plt.show()"
   ],
   "metadata": {
    "collapsed": false,
    "ExecuteTime": {
     "end_time": "2023-11-29T00:30:43.791503200Z",
     "start_time": "2023-11-28T22:01:51.666446400Z"
    }
   },
   "id": "55e874b2268a67cc"
  }
 ],
 "metadata": {
  "kernelspec": {
   "display_name": "Python 3",
   "language": "python",
   "name": "python3"
  },
  "language_info": {
   "codemirror_mode": {
    "name": "ipython",
    "version": 2
   },
   "file_extension": ".py",
   "mimetype": "text/x-python",
   "name": "python",
   "nbconvert_exporter": "python",
   "pygments_lexer": "ipython2",
   "version": "2.7.6"
  }
 },
 "nbformat": 4,
 "nbformat_minor": 5
}
