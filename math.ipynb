{
 "cells": [
  {
   "cell_type": "code",
   "execution_count": 118,
   "id": "initial_id",
   "metadata": {
    "collapsed": true,
    "ExecuteTime": {
     "end_time": "2023-11-01T21:39:18.609757100Z",
     "start_time": "2023-11-01T21:39:18.591772400Z"
    }
   },
   "outputs": [],
   "source": [
    "import sympy as sp\n",
    "from sympy import symbols, sin, cos, tan, Function\n",
    "from sympy.plotting import plot\n"
   ]
  },
  {
   "cell_type": "code",
   "execution_count": 119,
   "outputs": [],
   "source": [
    "a1, a2, phi1, phi2 = symbols(('A_1', 'A_2', '\\phi_1', '\\phi_2'))\n"
   ],
   "metadata": {
    "collapsed": false,
    "ExecuteTime": {
     "end_time": "2023-11-01T21:39:18.610756800Z",
     "start_time": "2023-11-01T21:39:18.597472800Z"
    }
   },
   "id": "2ddf1808dfeb09a"
  },
  {
   "cell_type": "code",
   "execution_count": 120,
   "outputs": [
    {
     "data": {
      "text/plain": "A_1**2 + 2*A_1*A_2*sin(\\phi_1)*sin(\\phi_2) + 2*A_1*A_2*cos(\\phi_1)*cos(\\phi_2) + 2*A_1*cos(\\phi_1) + A_2**2 + 2*A_2*cos(\\phi_2) + 1",
      "text/latex": "$\\displaystyle A_{1}^{2} + 2 A_{1} A_{2} \\sin{\\left(\\phi_{1} \\right)} \\sin{\\left(\\phi_{2} \\right)} + 2 A_{1} A_{2} \\cos{\\left(\\phi_{1} \\right)} \\cos{\\left(\\phi_{2} \\right)} + 2 A_{1} \\cos{\\left(\\phi_{1} \\right)} + A_{2}^{2} + 2 A_{2} \\cos{\\left(\\phi_{2} \\right)} + 1$"
     },
     "execution_count": 120,
     "metadata": {},
     "output_type": "execute_result"
    }
   ],
   "source": [
    "# equation\n",
    "eq = 1 + a1 ** 2 + a2 ** 2 + 2 * (\n",
    "            a1 * cos(phi1) + a2 * cos(phi2) + a1 * a2 * cos(phi1) * cos(phi2) + a1 * a2 * sin(phi1) * sin(phi2))\n",
    "eq"
   ],
   "metadata": {
    "collapsed": false,
    "ExecuteTime": {
     "end_time": "2023-11-01T21:39:18.610756800Z",
     "start_time": "2023-11-01T21:39:18.600481900Z"
    }
   },
   "id": "97b855f265a891fc"
  },
  {
   "cell_type": "code",
   "execution_count": 121,
   "outputs": [
    {
     "data": {
      "text/plain": "A_1**2 + 2*A_1*A_2*cos(\\phi_1 - \\phi_2) + 2*A_1*cos(\\phi_1) + A_2**2 + 2*A_2*cos(\\phi_2) + 1",
      "text/latex": "$\\displaystyle A_{1}^{2} + 2 A_{1} A_{2} \\cos{\\left(\\phi_{1} - \\phi_{2} \\right)} + 2 A_{1} \\cos{\\left(\\phi_{1} \\right)} + A_{2}^{2} + 2 A_{2} \\cos{\\left(\\phi_{2} \\right)} + 1$"
     },
     "execution_count": 121,
     "metadata": {},
     "output_type": "execute_result"
    }
   ],
   "source": [
    "sp.simplify(eq)"
   ],
   "metadata": {
    "collapsed": false,
    "ExecuteTime": {
     "end_time": "2023-11-01T21:39:18.701906Z",
     "start_time": "2023-11-01T21:39:18.606759200Z"
    }
   },
   "id": "a0d015d0b03abe40"
  },
  {
   "cell_type": "markdown",
   "source": [
    "Substition for uniform array"
   ],
   "metadata": {
    "collapsed": false
   },
   "id": "84d659c0821ed151"
  },
  {
   "cell_type": "code",
   "execution_count": 122,
   "outputs": [],
   "source": [
    "k, theta, Dx = symbols(('k', '\\\\theta', '\\Delta_x'))"
   ],
   "metadata": {
    "collapsed": false,
    "ExecuteTime": {
     "end_time": "2023-11-01T21:39:18.705429400Z",
     "start_time": "2023-11-01T21:39:18.700321700Z"
    }
   },
   "id": "355c06d35c1cec55"
  },
  {
   "cell_type": "code",
   "execution_count": 123,
   "outputs": [
    {
     "data": {
      "text/plain": "2*A_1**2*cos(\\Delta_x*k*sin(\\theta)) + 2*A_1**2 - 4*A_1*sin(\\Delta_x*k*sin(\\theta))**2 + 2*A_1*cos(\\Delta_x*k*sin(\\theta)) + 2*A_1 + 1",
      "text/latex": "$\\displaystyle 2 A_{1}^{2} \\cos{\\left(\\Delta_{x} k \\sin{\\left(\\theta \\right)} \\right)} + 2 A_{1}^{2} - 4 A_{1} \\sin^{2}{\\left(\\Delta_{x} k \\sin{\\left(\\theta \\right)} \\right)} + 2 A_{1} \\cos{\\left(\\Delta_{x} k \\sin{\\left(\\theta \\right)} \\right)} + 2 A_{1} + 1$"
     },
     "execution_count": 123,
     "metadata": {},
     "output_type": "execute_result"
    }
   ],
   "source": [
    "p1 = k * sin(theta) * Dx\n",
    "p2 = 2 * p1\n",
    "af = eq.subs([(phi1, p1), (phi2, p2), (a2, a1)])\n",
    "sp.simplify(af)"
   ],
   "metadata": {
    "collapsed": false,
    "ExecuteTime": {
     "end_time": "2023-11-01T21:39:18.849985200Z",
     "start_time": "2023-11-01T21:39:18.704429Z"
    }
   },
   "id": "4fabccb0930d3431"
  },
  {
   "cell_type": "code",
   "execution_count": 124,
   "outputs": [
    {
     "data": {
      "text/plain": "<Figure size 640x480 with 1 Axes>",
      "image/png": "[encoded data removed]"
     },
     "metadata": {},
     "output_type": "display_data"
    }
   ],
   "source": [
    "af1 = af.subs([(Dx * k, sp.pi*1.1), (a1, 1)])\n",
    "p1 = plot(af1, (theta, -sp.pi,  sp.pi))"
   ],
   "metadata": {
    "collapsed": false,
    "ExecuteTime": {
     "end_time": "2023-11-01T21:39:18.971498300Z",
     "start_time": "2023-11-01T21:39:18.849985200Z"
    }
   },
   "id": "abd9d3634f771059"
  },
  {
   "cell_type": "code",
   "execution_count": 125,
   "outputs": [
    {
     "data": {
      "text/plain": "2*sin(1.1*pi*sin(\\theta))*sin(2.2*pi*sin(\\theta)) + 2*cos(1.1*pi*sin(\\theta))*cos(2.2*pi*sin(\\theta)) + 2*cos(1.1*pi*sin(\\theta)) + 2*cos(2.2*pi*sin(\\theta)) + 3",
      "text/latex": "$\\displaystyle 2 \\sin{\\left(1.1 \\pi \\sin{\\left(\\theta \\right)} \\right)} \\sin{\\left(2.2 \\pi \\sin{\\left(\\theta \\right)} \\right)} + 2 \\cos{\\left(1.1 \\pi \\sin{\\left(\\theta \\right)} \\right)} \\cos{\\left(2.2 \\pi \\sin{\\left(\\theta \\right)} \\right)} + 2 \\cos{\\left(1.1 \\pi \\sin{\\left(\\theta \\right)} \\right)} + 2 \\cos{\\left(2.2 \\pi \\sin{\\left(\\theta \\right)} \\right)} + 3$"
     },
     "execution_count": 125,
     "metadata": {},
     "output_type": "execute_result"
    }
   ],
   "source": [
    "af1"
   ],
   "metadata": {
    "collapsed": false,
    "ExecuteTime": {
     "end_time": "2023-11-01T21:39:18.984873400Z",
     "start_time": "2023-11-01T21:39:18.976554200Z"
    }
   },
   "id": "469f94b772467849"
  },
  {
   "cell_type": "markdown",
   "source": [
    "possible expansions to reduce the degrees of freedom\n"
   ],
   "metadata": {
    "collapsed": false
   },
   "id": "7ebb48212e8114d6"
  },
  {
   "cell_type": "code",
   "execution_count": 128,
   "outputs": [
    {
     "data": {
      "text/plain": "-\\theta**2/2 + \\theta**4/24 + O(\\theta**6)",
      "text/latex": "$\\displaystyle - \\frac{\\theta^{2}}{2} + \\frac{\\theta^{4}}{24} + O\\left(\\theta^{6}\\right)$"
     },
     "execution_count": 128,
     "metadata": {},
     "output_type": "execute_result"
    }
   ],
   "source": [
    "\n",
    "f = cos(theta) -1\n",
    "f.series(theta, 0)"
   ],
   "metadata": {
    "collapsed": false,
    "ExecuteTime": {
     "end_time": "2023-11-01T21:39:55.359072800Z",
     "start_time": "2023-11-01T21:39:55.336417400Z"
    }
   },
   "id": "d23e2cd8daeb7933"
  },
  {
   "cell_type": "code",
   "execution_count": 129,
   "outputs": [
    {
     "data": {
      "text/plain": "\\theta - \\theta**3/6 + \\theta**5/120 + O(\\theta**6)",
      "text/latex": "$\\displaystyle \\theta - \\frac{\\theta^{3}}{6} + \\frac{\\theta^{5}}{120} + O\\left(\\theta^{6}\\right)$"
     },
     "execution_count": 129,
     "metadata": {},
     "output_type": "execute_result"
    }
   ],
   "source": [
    "f = sin(theta)\n",
    "f.series(theta, 0)"
   ],
   "metadata": {
    "collapsed": false,
    "ExecuteTime": {
     "end_time": "2023-11-01T21:40:24.623235400Z",
     "start_time": "2023-11-01T21:40:24.600219300Z"
    }
   },
   "id": "5c407759ae25ceaf"
  },
  {
   "cell_type": "code",
   "execution_count": null,
   "outputs": [],
   "source": [],
   "metadata": {
    "collapsed": false
   },
   "id": "dd4c483919f74bce"
  }
 ],
 "metadata": {
  "kernelspec": {
   "display_name": "Python 3",
   "language": "python",
   "name": "python3"
  },
  "language_info": {
   "codemirror_mode": {
    "name": "ipython",
    "version": 2
   },
   "file_extension": ".py",
   "mimetype": "text/x-python",
   "name": "python",
   "nbconvert_exporter": "python",
   "pygments_lexer": "ipython2",
   "version": "2.7.6"
  }
 },
 "nbformat": 4,
 "nbformat_minor": 5
}
