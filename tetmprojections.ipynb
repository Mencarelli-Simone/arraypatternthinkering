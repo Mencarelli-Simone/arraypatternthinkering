{
 "cells": [
  {
   "cell_type": "code",
   "execution_count": 78,
   "id": "initial_id",
   "metadata": {
    "collapsed": true,
    "ExecuteTime": {
     "end_time": "2024-01-26T02:42:05.777241Z",
     "start_time": "2024-01-26T02:42:05.773138700Z"
    }
   },
   "outputs": [],
   "source": [
    "import sympy as sp\n",
    "from sympy import *"
   ]
  },
  {
   "cell_type": "code",
   "execution_count": 79,
   "outputs": [],
   "source": [
    "(kx, ky, kz) = symbols('k_x k_y k_z')\n",
    "(Ex, Ey, Ez) = symbols('E_x E_y E_z')\n",
    "esz = 0  # by definition\n",
    "esx = - ky / sqrt(kx ** 2 + ky ** 2)\n",
    "esy = kx / sqrt(kx ** 2 + ky ** 2)"
   ],
   "metadata": {
    "collapsed": false,
    "ExecuteTime": {
     "end_time": "2024-01-26T02:42:05.784956100Z",
     "start_time": "2024-01-26T02:42:05.776241300Z"
    }
   },
   "id": "1482e04a87d18652"
  },
  {
   "cell_type": "code",
   "execution_count": 80,
   "outputs": [],
   "source": [
    "# e_p is k cross e_s\n",
    "epx = simplify(- kz * esy)\n",
    "epy = simplify(kz * esx)\n",
    "epz = simplify(kx * esy - ky * esx)\n",
    "# projection of E onto e_s (esx, esy, esz) is unitary\n",
    "Es = esx * Ex + esy * Ey + esz * Ez\n",
    "# projection of E onto e_p (epx, epy, epz) is unitary\n",
    "Ep = epx * Ex + epy * Ey + epz * Ez\n"
   ],
   "metadata": {
    "collapsed": false,
    "ExecuteTime": {
     "end_time": "2024-01-26T02:42:05.820958900Z",
     "start_time": "2024-01-26T02:42:05.785964Z"
    }
   },
   "id": "2be9c9b114807d93"
  },
  {
   "cell_type": "code",
   "execution_count": 81,
   "outputs": [
    {
     "data": {
      "text/plain": "{(-E_y*k_y/k_x + (E_z*k_x**2 + E_z*k_y**2)/(k_x*k_z), E_y)}",
      "text/latex": "$\\displaystyle \\left\\{\\left( - \\frac{E_{y} k_{y}}{k_{x}} + \\frac{E_{z} k_{x}^{2} + E_{z} k_{y}^{2}}{k_{x} k_{z}}, \\  E_{y}\\right)\\right\\}$"
     },
     "execution_count": 81,
     "metadata": {},
     "output_type": "execute_result"
    }
   ],
   "source": [
    "eq1 = simplify(- (Ep + kz * Es) * esy - (ky*Ez -Ey*kz)) # Hx difference\n",
    "eq2 = simplify((Ep + kz * Es) * esx - (kz*Ex -Ez*kx)) # Hy difference\n",
    "# E dot k = 0\n",
    "eq3 = Ex * kx + Ey * ky + Ez * kz\n",
    "\n",
    "sol = linsolve([eq1, eq2], [Ex, Ey])\n",
    "sol"
   ],
   "metadata": {
    "collapsed": false,
    "ExecuteTime": {
     "end_time": "2024-01-26T02:42:05.943427700Z",
     "start_time": "2024-01-26T02:42:05.811448100Z"
    }
   },
   "id": "370dcf3e0b637379"
  },
  {
   "cell_type": "code",
   "execution_count": 82,
   "outputs": [
    {
     "data": {
      "text/plain": "k_x*(E_x*k_x*k_z + E_y*k_y*k_z - E_z*(k_x**2 + k_y**2) + k_z*(E_x*k_y - E_y*k_x))/(k_x**2 + k_y**2)",
      "text/latex": "$\\displaystyle \\frac{k_{x} \\left(E_{x} k_{x} k_{z} + E_{y} k_{y} k_{z} - E_{z} \\left(k_{x}^{2} + k_{y}^{2}\\right) + k_{z} \\left(E_{x} k_{y} - E_{y} k_{x}\\right)\\right)}{k_{x}^{2} + k_{y}^{2}}$"
     },
     "execution_count": 82,
     "metadata": {},
     "output_type": "execute_result"
    }
   ],
   "source": [
    "xcomp = simplify(- (Ep + kz * Es) * esy)\n",
    "xcomp"
   ],
   "metadata": {
    "collapsed": false,
    "ExecuteTime": {
     "end_time": "2024-01-26T02:42:05.986842800Z",
     "start_time": "2024-01-26T02:42:05.942428200Z"
    }
   },
   "id": "ab13ba9f9c7fa5e9"
  },
  {
   "cell_type": "code",
   "execution_count": 83,
   "outputs": [
    {
     "data": {
      "text/plain": "k_y*(E_x*k_x*k_z + E_y*k_y*k_z - E_z*(k_x**2 + k_y**2) + k_z*(E_x*k_y - E_y*k_x))/(k_x**2 + k_y**2)",
      "text/latex": "$\\displaystyle \\frac{k_{y} \\left(E_{x} k_{x} k_{z} + E_{y} k_{y} k_{z} - E_{z} \\left(k_{x}^{2} + k_{y}^{2}\\right) + k_{z} \\left(E_{x} k_{y} - E_{y} k_{x}\\right)\\right)}{k_{x}^{2} + k_{y}^{2}}$"
     },
     "execution_count": 83,
     "metadata": {},
     "output_type": "execute_result"
    }
   ],
   "source": [
    "ycomp = simplify((Ep + kz * Es) * esx)\n",
    "ycomp"
   ],
   "metadata": {
    "collapsed": false,
    "ExecuteTime": {
     "end_time": "2024-01-26T02:42:06.027716Z",
     "start_time": "2024-01-26T02:42:05.983733500Z"
    }
   },
   "id": "5f2ec39f9daa1030"
  },
  {
   "cell_type": "code",
   "execution_count": 88,
   "outputs": [
    {
     "data": {
      "text/plain": "k_x*(k_z**2*(E_x*k_x + E_x*k_y - E_y*k_x + E_y*k_y) + (k_x**2 + k_y**2)*(E_x*k_x + E_y*k_y))/(k_z*(k_x**2 + k_y**2))",
      "text/latex": "$\\displaystyle \\frac{k_{x} \\left(k_{z}^{2} \\left(E_{x} k_{x} + E_{x} k_{y} - E_{y} k_{x} + E_{y} k_{y}\\right) + \\left(k_{x}^{2} + k_{y}^{2}\\right) \\left(E_{x} k_{x} + E_{y} k_{y}\\right)\\right)}{k_{z} \\left(k_{x}^{2} + k_{y}^{2}\\right)}$"
     },
     "execution_count": 88,
     "metadata": {},
     "output_type": "execute_result"
    }
   ],
   "source": [
    "EZZ = (-kx * Ex - ky * Ey) / kz\n",
    "simplify(xcomp.subs(Ez, EZZ))"
   ],
   "metadata": {
    "collapsed": false,
    "ExecuteTime": {
     "end_time": "2024-01-26T02:49:19.109118700Z",
     "start_time": "2024-01-26T02:49:19.052523700Z"
    }
   },
   "id": "a72ae1f11768d981"
  },
  {
   "cell_type": "code",
   "execution_count": 89,
   "outputs": [
    {
     "data": {
      "text/plain": "k_y*(k_z**2*(E_x*k_x + E_x*k_y - E_y*k_x + E_y*k_y) + (k_x**2 + k_y**2)*(E_x*k_x + E_y*k_y))/(k_z*(k_x**2 + k_y**2))",
      "text/latex": "$\\displaystyle \\frac{k_{y} \\left(k_{z}^{2} \\left(E_{x} k_{x} + E_{x} k_{y} - E_{y} k_{x} + E_{y} k_{y}\\right) + \\left(k_{x}^{2} + k_{y}^{2}\\right) \\left(E_{x} k_{x} + E_{y} k_{y}\\right)\\right)}{k_{z} \\left(k_{x}^{2} + k_{y}^{2}\\right)}$"
     },
     "execution_count": 89,
     "metadata": {},
     "output_type": "execute_result"
    }
   ],
   "source": [
    "simplify(ycomp.subs(Ez, EZZ))"
   ],
   "metadata": {
    "collapsed": false,
    "ExecuteTime": {
     "end_time": "2024-01-26T02:49:21.514037700Z",
     "start_time": "2024-01-26T02:49:21.461058100Z"
    }
   },
   "id": "e4b008ae96d167c7"
  },
  {
   "cell_type": "code",
   "execution_count": 90,
   "outputs": [],
   "source": [
    "hx = (ky*Ez -Ey*kz)\n",
    "hy = (kz*Ex -Ez*kx)"
   ],
   "metadata": {
    "collapsed": false,
    "ExecuteTime": {
     "end_time": "2024-01-26T02:50:03.216420100Z",
     "start_time": "2024-01-26T02:50:03.213143900Z"
    }
   },
   "id": "9d5e7cbeeb5e2ea6"
  },
  {
   "cell_type": "code",
   "execution_count": 91,
   "outputs": [
    {
     "data": {
      "text/plain": "(-E_y*k_z**2 - k_y*(E_x*k_x + E_y*k_y))/k_z",
      "text/latex": "$\\displaystyle \\frac{- E_{y} k_{z}^{2} - k_{y} \\left(E_{x} k_{x} + E_{y} k_{y}\\right)}{k_{z}}$"
     },
     "execution_count": 91,
     "metadata": {},
     "output_type": "execute_result"
    }
   ],
   "source": [
    "hx = simplify(hx.subs(Ez, EZZ))\n",
    "hx"
   ],
   "metadata": {
    "collapsed": false,
    "ExecuteTime": {
     "end_time": "2024-01-26T02:50:12.048565500Z",
     "start_time": "2024-01-26T02:50:12.019730300Z"
    }
   },
   "id": "b1d87da520caa2f7"
  },
  {
   "cell_type": "code",
   "execution_count": 94,
   "outputs": [
    {
     "data": {
      "text/plain": "E_x*k_z - k_x*(-E_x*k_x - E_y*k_y)/k_z",
      "text/latex": "$\\displaystyle E_{x} k_{z} - \\frac{k_{x} \\left(- E_{x} k_{x} - E_{y} k_{y}\\right)}{k_{z}}$"
     },
     "execution_count": 94,
     "metadata": {},
     "output_type": "execute_result"
    }
   ],
   "source": [
    "hy = (hy.subs(Ez, EZZ))\n",
    "hy"
   ],
   "metadata": {
    "collapsed": false,
    "ExecuteTime": {
     "end_time": "2024-01-26T02:52:43.261540400Z",
     "start_time": "2024-01-26T02:52:43.253262900Z"
    }
   },
   "id": "27361119411c7eed"
  },
  {
   "cell_type": "code",
   "execution_count": 96,
   "outputs": [
    {
     "data": {
      "text/plain": "(-k_x*(k_z**2*(E_x*k_x + E_x*k_y - E_y*k_x + E_y*k_y) + (k_x**2 + k_y**2)*(E_x*k_x + E_y*k_y)) + k_z*(k_x**2 + k_y**2)*(-E_y*k_z + E_z*k_y))/(k_z*(k_x**2 + k_y**2))",
      "text/latex": "$\\displaystyle \\frac{- k_{x} \\left(k_{z}^{2} \\left(E_{x} k_{x} + E_{x} k_{y} - E_{y} k_{x} + E_{y} k_{y}\\right) + \\left(k_{x}^{2} + k_{y}^{2}\\right) \\left(E_{x} k_{x} + E_{y} k_{y}\\right)\\right) + k_{z} \\left(k_{x}^{2} + k_{y}^{2}\\right) \\left(- E_{y} k_{z} + E_{z} k_{y}\\right)}{k_{z} \\left(k_{x}^{2} + k_{y}^{2}\\right)}$"
     },
     "execution_count": 96,
     "metadata": {},
     "output_type": "execute_result"
    }
   ],
   "source": [
    "simplify(hx - xcomp.subs(Ez, EZZ))"
   ],
   "metadata": {
    "collapsed": false,
    "ExecuteTime": {
     "end_time": "2024-01-26T02:52:55.656065700Z",
     "start_time": "2024-01-26T02:52:55.575929400Z"
    }
   },
   "id": "149e33ffded17e41"
  },
  {
   "cell_type": "code",
   "execution_count": 87,
   "outputs": [
    {
     "name": "stdout",
     "output_type": "stream",
     "text": [
      "{(-E_y*k_y/k_x, E_y)}\n"
     ]
    }
   ],
   "source": [
    "sol = linsolve([eq1.subs(Ez, EZZ), eq2.subs(Ez, EZZ)], [Ex, Ey])\n",
    "print(sol)"
   ],
   "metadata": {
    "collapsed": false,
    "ExecuteTime": {
     "end_time": "2024-01-26T02:42:58.358881500Z",
     "start_time": "2024-01-26T02:42:58.346368800Z"
    }
   },
   "id": "776c833b6118c88a"
  }
 ],
 "metadata": {
  "kernelspec": {
   "display_name": "Python 3",
   "language": "python",
   "name": "python3"
  },
  "language_info": {
   "codemirror_mode": {
    "name": "ipython",
    "version": 2
   },
   "file_extension": ".py",
   "mimetype": "text/x-python",
   "name": "python",
   "nbconvert_exporter": "python",
   "pygments_lexer": "ipython2",
   "version": "2.7.6"
  }
 },
 "nbformat": 4,
 "nbformat_minor": 5
}
