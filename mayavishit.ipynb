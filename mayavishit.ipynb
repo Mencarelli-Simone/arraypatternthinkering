{
 "cells": [
  {
   "cell_type": "code",
   "execution_count": null,
   "id": "initial_id",
   "metadata": {
    "collapsed": true,
    "ExecuteTime": {
     "end_time": "2023-11-24T01:19:27.581961800Z",
     "start_time": "2023-11-24T01:19:27.580955900Z"
    }
   },
   "outputs": [],
   "source": []
  },
  {
   "cell_type": "code",
   "execution_count": 1,
   "outputs": [
    {
     "data": {
      "text/plain": "<traitsui.ui.UI at 0x2a47d83ff10>"
     },
     "execution_count": 1,
     "metadata": {},
     "output_type": "execute_result"
    }
   ],
   "source": [
    "import numpy as np\n",
    "#set output to qt figures\n",
    "#%matplotlib qt\n",
    "a = np.random.random((4, 4))\n",
    "from mayavi import mlab\n",
    "mlab.surf(a)\n",
    "mlab.show_pipeline()\n"
   ],
   "metadata": {
    "collapsed": false,
    "ExecuteTime": {
     "end_time": "2023-11-24T01:19:29.878267Z",
     "start_time": "2023-11-24T01:19:27.584961500Z"
    }
   },
   "id": "94fd1331805d556e"
  },
  {
   "cell_type": "code",
   "execution_count": 2,
   "outputs": [],
   "source": [
    "mlab.show()\n"
   ],
   "metadata": {
    "collapsed": false,
    "ExecuteTime": {
     "end_time": "2023-11-24T01:22:32.147293300Z",
     "start_time": "2023-11-24T01:19:48.084587Z"
    }
   },
   "id": "a4a50c1677a46b9e"
  },
  {
   "cell_type": "code",
   "execution_count": 5,
   "outputs": [
    {
     "name": "stdout",
     "output_type": "stream",
     "text": [
      "<mayavi.filters.poly_data_normals.PolyDataNormals object at 0x000002A4060FE2F0>\n"
     ]
    }
   ],
   "source": [
    "src = mlab.pipeline.array2d_source(a)\n",
    "warp = mlab.pipeline.warp_scalar(src)\n",
    "normals = mlab.pipeline.poly_data_normals(warp)\n",
    "surf = mlab.pipeline.surface(normals)"
   ],
   "metadata": {
    "collapsed": false,
    "ExecuteTime": {
     "end_time": "2023-11-24T01:24:36.820919600Z",
     "start_time": "2023-11-24T01:24:36.756089900Z"
    }
   },
   "id": "a6d2b9b12cdc7f7a"
  },
  {
   "cell_type": "code",
   "execution_count": 7,
   "outputs": [
    {
     "ename": "TypeError",
     "evalue": "'dict' object is not callable",
     "output_type": "error",
     "traceback": [
      "\u001B[1;31m---------------------------------------------------------------------------\u001B[0m",
      "\u001B[1;31mTypeError\u001B[0m                                 Traceback (most recent call last)",
      "Cell \u001B[1;32mIn[7], line 1\u001B[0m\n\u001B[1;32m----> 1\u001B[0m \u001B[43mnormals\u001B[49m\u001B[38;5;241;43m.\u001B[39;49m\u001B[38;5;18;43m__dict__\u001B[39;49m\u001B[43m(\u001B[49m\u001B[43m)\u001B[49m\n",
      "\u001B[1;31mTypeError\u001B[0m: 'dict' object is not callable"
     ]
    }
   ],
   "source": [
    "normals"
   ],
   "metadata": {
    "collapsed": false,
    "ExecuteTime": {
     "end_time": "2023-11-24T01:25:12.662835100Z",
     "start_time": "2023-11-24T01:25:12.089292100Z"
    }
   },
   "id": "b2cad9a8832820ee"
  },
  {
   "cell_type": "code",
   "execution_count": 4,
   "outputs": [],
   "source": [
    "mlab.show()"
   ],
   "metadata": {
    "collapsed": false,
    "ExecuteTime": {
     "end_time": "2023-11-24T01:23:00.921183200Z",
     "start_time": "2023-11-24T01:22:45.407857200Z"
    }
   },
   "id": "2ab0e3cf3d6ccd4f"
  },
  {
   "cell_type": "code",
   "execution_count": null,
   "outputs": [],
   "source": [],
   "metadata": {
    "collapsed": false
   },
   "id": "2454e4ccddd47d4e"
  }
 ],
 "metadata": {
  "kernelspec": {
   "display_name": "Python 3",
   "language": "python",
   "name": "python3"
  },
  "language_info": {
   "codemirror_mode": {
    "name": "ipython",
    "version": 2
   },
   "file_extension": ".py",
   "mimetype": "text/x-python",
   "name": "python",
   "nbconvert_exporter": "python",
   "pygments_lexer": "ipython2",
   "version": "2.7.6"
  }
 },
 "nbformat": 4,
 "nbformat_minor": 5
}
